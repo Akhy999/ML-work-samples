{
 "cells": [
  {
   "cell_type": "code",
   "execution_count": 1,
   "metadata": {},
   "outputs": [
    {
     "name": "stderr",
     "output_type": "stream",
     "text": [
      "Using TensorFlow backend.\n"
     ]
    }
   ],
   "source": [
    "\"\"\"\n",
    "@author: Akhy\n",
    "\"\"\"\n",
    "\n",
    "# Convolutional Neural Network\n",
    "\n",
    "# Part 1 - Building the CNN\n",
    "\n",
    "# Importing the Keras libraries and packages\n",
    "from keras.models import Sequential\n",
    "from keras.layers import Conv2D\n",
    "from keras.layers import MaxPooling2D\n",
    "from keras.layers import Flatten\n",
    "from keras.layers import Dense"
   ]
  },
  {
   "cell_type": "code",
   "execution_count": 2,
   "metadata": {},
   "outputs": [],
   "source": [
    "# Initialising the CNN\n",
    "classifier = Sequential()\n",
    "\n",
    "# Step 1 - Convolution\n",
    "classifier.add(Conv2D(32, (3, 3), input_shape = (64, 64, 3), activation = 'relu'))\n"
   ]
  },
  {
   "cell_type": "code",
   "execution_count": 3,
   "metadata": {},
   "outputs": [],
   "source": [
    "# Step 2 - Pooling\n",
    "classifier.add(MaxPooling2D(pool_size = (2, 2)))\n",
    "\n",
    "# Adding a second convolutional layer\n",
    "classifier.add(Conv2D(32, (3, 3), activation = 'relu'))\n",
    "classifier.add(MaxPooling2D(pool_size = (2, 2)))\n"
   ]
  },
  {
   "cell_type": "code",
   "execution_count": 4,
   "metadata": {},
   "outputs": [],
   "source": [
    "# Step 3 - Flattening\n",
    "classifier.add(Flatten())\n",
    "\n",
    "# Step 4 - Full connection\n",
    "classifier.add(Dense(units = 128, activation = 'relu'))\n",
    "classifier.add(Dense(units = 1, activation = 'sigmoid'))\n"
   ]
  },
  {
   "cell_type": "code",
   "execution_count": 5,
   "metadata": {},
   "outputs": [],
   "source": [
    "# Compiling the CNN\n",
    "classifier.compile(optimizer = 'adam', loss = 'binary_crossentropy', metrics = ['accuracy'])\n",
    "\n"
   ]
  },
  {
   "cell_type": "code",
   "execution_count": 6,
   "metadata": {},
   "outputs": [
    {
     "name": "stdout",
     "output_type": "stream",
     "text": [
      "Found 8000 images belonging to 2 classes.\n"
     ]
    }
   ],
   "source": [
    "# Part 2 - Fitting the CNN to the images\n",
    "\n",
    "from keras.preprocessing.image import ImageDataGenerator\n",
    "#preprocessing the training set\n",
    "train_datagen = ImageDataGenerator(rescale = 1./255,\n",
    "                                   shear_range = 0.2,\n",
    "                                   zoom_range = 0.2,\n",
    "                                   horizontal_flip = True)\n",
    "\n",
    "training_set = train_datagen.flow_from_directory('dataset/training_set',\n",
    "                                                 target_size = (64, 64),\n",
    "                                                 batch_size = 32,\n",
    "                                                 class_mode = 'binary')\n"
   ]
  },
  {
   "cell_type": "code",
   "execution_count": 7,
   "metadata": {},
   "outputs": [
    {
     "name": "stdout",
     "output_type": "stream",
     "text": [
      "Found 2000 images belonging to 2 classes.\n"
     ]
    }
   ],
   "source": [
    "# Preprocessing the Test set\n",
    "test_datagen = ImageDataGenerator(rescale = 1./255)\n",
    "test_set = test_datagen.flow_from_directory('dataset/test_set',\n",
    "                                            target_size = (64, 64),\n",
    "                                            batch_size = 32,\n",
    "                                            class_mode = 'binary')\n"
   ]
  },
  {
   "cell_type": "code",
   "execution_count": 8,
   "metadata": {},
   "outputs": [
    {
     "name": "stdout",
     "output_type": "stream",
     "text": [
      "Epoch 1/25\n",
      "1000/1000 [==============================] - 533s 533ms/step - loss: 0.5805 - accuracy: 0.6897 - val_loss: 0.5861 - val_accuracy: 0.7499\n",
      "Epoch 2/25\n",
      "1000/1000 [==============================] - 300s 300ms/step - loss: 0.4746 - accuracy: 0.7716 - val_loss: 0.3599 - val_accuracy: 0.7821\n",
      "Epoch 3/25\n",
      "1000/1000 [==============================] - 297s 297ms/step - loss: 0.4013 - accuracy: 0.8168 - val_loss: 0.3213 - val_accuracy: 0.8011\n",
      "Epoch 4/25\n",
      "1000/1000 [==============================] - 291s 291ms/step - loss: 0.3488 - accuracy: 0.8478 - val_loss: 0.3300 - val_accuracy: 0.8050\n",
      "Epoch 5/25\n",
      "1000/1000 [==============================] - 296s 296ms/step - loss: 0.2953 - accuracy: 0.8731 - val_loss: 0.5456 - val_accuracy: 0.8110\n",
      "Epoch 6/25\n",
      "1000/1000 [==============================] - 311s 311ms/step - loss: 0.2377 - accuracy: 0.9018 - val_loss: 0.6671 - val_accuracy: 0.7978\n",
      "Epoch 7/25\n",
      "1000/1000 [==============================] - 296s 296ms/step - loss: 0.1899 - accuracy: 0.9241 - val_loss: 0.6314 - val_accuracy: 0.7929\n",
      "Epoch 8/25\n",
      "1000/1000 [==============================] - 294s 294ms/step - loss: 0.1566 - accuracy: 0.9396 - val_loss: 0.8585 - val_accuracy: 0.7923\n",
      "Epoch 9/25\n",
      "1000/1000 [==============================] - 295s 295ms/step - loss: 0.1281 - accuracy: 0.9513 - val_loss: 0.8471 - val_accuracy: 0.7822\n",
      "Epoch 10/25\n",
      "1000/1000 [==============================] - 295s 295ms/step - loss: 0.1079 - accuracy: 0.9582 - val_loss: 0.5665 - val_accuracy: 0.8007\n",
      "Epoch 11/25\n",
      "1000/1000 [==============================] - 309s 309ms/step - loss: 0.0929 - accuracy: 0.9647 - val_loss: 1.1481 - val_accuracy: 0.8039\n",
      "Epoch 12/25\n",
      "1000/1000 [==============================] - 303s 303ms/step - loss: 0.0771 - accuracy: 0.9723 - val_loss: 0.7937 - val_accuracy: 0.7817\n",
      "Epoch 13/25\n",
      "1000/1000 [==============================] - 301s 301ms/step - loss: 0.0760 - accuracy: 0.9731 - val_loss: 0.4347 - val_accuracy: 0.7930\n",
      "Epoch 14/25\n",
      "1000/1000 [==============================] - 285s 285ms/step - loss: 0.0613 - accuracy: 0.9778 - val_loss: 1.0406 - val_accuracy: 0.7926\n",
      "Epoch 15/25\n",
      "1000/1000 [==============================] - 289s 289ms/step - loss: 0.0638 - accuracy: 0.9769 - val_loss: 0.9954 - val_accuracy: 0.7998\n",
      "Epoch 16/25\n",
      "1000/1000 [==============================] - 299s 299ms/step - loss: 0.0576 - accuracy: 0.9798 - val_loss: 0.1528 - val_accuracy: 0.7934\n",
      "Epoch 17/25\n",
      "1000/1000 [==============================] - 294s 294ms/step - loss: 0.0544 - accuracy: 0.9810 - val_loss: 1.3368 - val_accuracy: 0.7976\n",
      "Epoch 18/25\n",
      "1000/1000 [==============================] - 301s 301ms/step - loss: 0.0458 - accuracy: 0.9838 - val_loss: 1.3222 - val_accuracy: 0.7885\n",
      "Epoch 19/25\n",
      "1000/1000 [==============================] - 297s 297ms/step - loss: 0.0507 - accuracy: 0.9819 - val_loss: 1.0636 - val_accuracy: 0.7858\n",
      "Epoch 20/25\n",
      "1000/1000 [==============================] - 312s 312ms/step - loss: 0.0394 - accuracy: 0.9861 - val_loss: 1.0287 - val_accuracy: 0.7979\n",
      "Epoch 21/25\n",
      "1000/1000 [==============================] - 330s 330ms/step - loss: 0.0444 - accuracy: 0.9837 - val_loss: 1.7352 - val_accuracy: 0.8091\n",
      "Epoch 22/25\n",
      "1000/1000 [==============================] - 309s 309ms/step - loss: 0.0415 - accuracy: 0.9865 - val_loss: 0.0899 - val_accuracy: 0.8038\n",
      "Epoch 23/25\n",
      "1000/1000 [==============================] - 297s 297ms/step - loss: 0.0387 - accuracy: 0.9867 - val_loss: 1.1770 - val_accuracy: 0.8066\n",
      "Epoch 24/25\n",
      "1000/1000 [==============================] - 288s 288ms/step - loss: 0.0403 - accuracy: 0.9860 - val_loss: 1.9222 - val_accuracy: 0.7743\n",
      "Epoch 25/25\n",
      "1000/1000 [==============================] - 291s 291ms/step - loss: 0.0315 - accuracy: 0.9893 - val_loss: 1.1151 - val_accuracy: 0.8097\n"
     ]
    },
    {
     "data": {
      "text/plain": [
       "<keras.callbacks.callbacks.History at 0x23918b40908>"
      ]
     },
     "execution_count": 8,
     "metadata": {},
     "output_type": "execute_result"
    }
   ],
   "source": [
    "# Training the CNN on the Training set and evaluating it on the Test set\n",
    "classifier.fit_generator(training_set,\n",
    "                         steps_per_epoch = 1000,\n",
    "                         epochs = 25,\n",
    "                         validation_data = test_set,\n",
    "                         validation_steps = 2000)"
   ]
  },
  {
   "cell_type": "code",
   "execution_count": 9,
   "metadata": {},
   "outputs": [
    {
     "name": "stdout",
     "output_type": "stream",
     "text": [
      "dog\n"
     ]
    }
   ],
   "source": [
    "#making a single prediction\n",
    "import numpy as np\n",
    "from keras.preprocessing import image\n",
    "test_image = image.load_img('dataset/single_prediction/cat_or_dog_1.jpg', target_size = (64, 64))\n",
    "test_image = image.img_to_array(test_image)# M\n",
    "test_image = np.expand_dims(test_image, axis = 0)\n",
    "result = classifier.predict(test_image)\n",
    "training_set.class_indices\n",
    "if result[0][0] == 1:\n",
    "    prediction = 'dog'\n",
    "else:\n",
    "    prediction = 'cat'\n",
    "print(prediction)"
   ]
  },
  {
   "cell_type": "code",
   "execution_count": null,
   "metadata": {},
   "outputs": [],
   "source": []
  }
 ],
 "metadata": {
  "kernelspec": {
   "display_name": "Python 3",
   "language": "python",
   "name": "python3"
  },
  "language_info": {
   "codemirror_mode": {
    "name": "ipython",
    "version": 3
   },
   "file_extension": ".py",
   "mimetype": "text/x-python",
   "name": "python",
   "nbconvert_exporter": "python",
   "pygments_lexer": "ipython3",
   "version": "3.7.4"
  }
 },
 "nbformat": 4,
 "nbformat_minor": 2
}
