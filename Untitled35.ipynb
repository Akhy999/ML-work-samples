{
 "cells": [
  {
   "cell_type": "code",
   "execution_count": 1,
   "metadata": {},
   "outputs": [],
   "source": [
    "#importing libraries\n",
    "import numpy as np\n",
    "import pandas as pd\n",
    "import matplotlib.pyplot as plt\n"
   ]
  },
  {
   "cell_type": "code",
   "execution_count": 6,
   "metadata": {},
   "outputs": [],
   "source": [
    "#importing dataset\n",
    "dataset = pd.read_csv('./Churn_Modelling.csv')"
   ]
  },
  {
   "cell_type": "code",
   "execution_count": 7,
   "metadata": {},
   "outputs": [
    {
     "data": {
      "text/html": [
       "<div>\n",
       "<style scoped>\n",
       "    .dataframe tbody tr th:only-of-type {\n",
       "        vertical-align: middle;\n",
       "    }\n",
       "\n",
       "    .dataframe tbody tr th {\n",
       "        vertical-align: top;\n",
       "    }\n",
       "\n",
       "    .dataframe thead th {\n",
       "        text-align: right;\n",
       "    }\n",
       "</style>\n",
       "<table border=\"1\" class=\"dataframe\">\n",
       "  <thead>\n",
       "    <tr style=\"text-align: right;\">\n",
       "      <th></th>\n",
       "      <th>RowNumber</th>\n",
       "      <th>CustomerId</th>\n",
       "      <th>Surname</th>\n",
       "      <th>CreditScore</th>\n",
       "      <th>Geography</th>\n",
       "      <th>Gender</th>\n",
       "      <th>Age</th>\n",
       "      <th>Tenure</th>\n",
       "      <th>Balance</th>\n",
       "      <th>NumOfProducts</th>\n",
       "      <th>HasCrCard</th>\n",
       "      <th>IsActiveMember</th>\n",
       "      <th>EstimatedSalary</th>\n",
       "      <th>Exited</th>\n",
       "    </tr>\n",
       "  </thead>\n",
       "  <tbody>\n",
       "    <tr>\n",
       "      <td>0</td>\n",
       "      <td>1</td>\n",
       "      <td>15634602</td>\n",
       "      <td>Hargrave</td>\n",
       "      <td>619</td>\n",
       "      <td>France</td>\n",
       "      <td>Female</td>\n",
       "      <td>42</td>\n",
       "      <td>2</td>\n",
       "      <td>0.00</td>\n",
       "      <td>1</td>\n",
       "      <td>1</td>\n",
       "      <td>1</td>\n",
       "      <td>101348.88</td>\n",
       "      <td>1</td>\n",
       "    </tr>\n",
       "    <tr>\n",
       "      <td>1</td>\n",
       "      <td>2</td>\n",
       "      <td>15647311</td>\n",
       "      <td>Hill</td>\n",
       "      <td>608</td>\n",
       "      <td>Spain</td>\n",
       "      <td>Female</td>\n",
       "      <td>41</td>\n",
       "      <td>1</td>\n",
       "      <td>83807.86</td>\n",
       "      <td>1</td>\n",
       "      <td>0</td>\n",
       "      <td>1</td>\n",
       "      <td>112542.58</td>\n",
       "      <td>0</td>\n",
       "    </tr>\n",
       "    <tr>\n",
       "      <td>2</td>\n",
       "      <td>3</td>\n",
       "      <td>15619304</td>\n",
       "      <td>Onio</td>\n",
       "      <td>502</td>\n",
       "      <td>France</td>\n",
       "      <td>Female</td>\n",
       "      <td>42</td>\n",
       "      <td>8</td>\n",
       "      <td>159660.80</td>\n",
       "      <td>3</td>\n",
       "      <td>1</td>\n",
       "      <td>0</td>\n",
       "      <td>113931.57</td>\n",
       "      <td>1</td>\n",
       "    </tr>\n",
       "    <tr>\n",
       "      <td>3</td>\n",
       "      <td>4</td>\n",
       "      <td>15701354</td>\n",
       "      <td>Boni</td>\n",
       "      <td>699</td>\n",
       "      <td>France</td>\n",
       "      <td>Female</td>\n",
       "      <td>39</td>\n",
       "      <td>1</td>\n",
       "      <td>0.00</td>\n",
       "      <td>2</td>\n",
       "      <td>0</td>\n",
       "      <td>0</td>\n",
       "      <td>93826.63</td>\n",
       "      <td>0</td>\n",
       "    </tr>\n",
       "    <tr>\n",
       "      <td>4</td>\n",
       "      <td>5</td>\n",
       "      <td>15737888</td>\n",
       "      <td>Mitchell</td>\n",
       "      <td>850</td>\n",
       "      <td>Spain</td>\n",
       "      <td>Female</td>\n",
       "      <td>43</td>\n",
       "      <td>2</td>\n",
       "      <td>125510.82</td>\n",
       "      <td>1</td>\n",
       "      <td>1</td>\n",
       "      <td>1</td>\n",
       "      <td>79084.10</td>\n",
       "      <td>0</td>\n",
       "    </tr>\n",
       "    <tr>\n",
       "      <td>...</td>\n",
       "      <td>...</td>\n",
       "      <td>...</td>\n",
       "      <td>...</td>\n",
       "      <td>...</td>\n",
       "      <td>...</td>\n",
       "      <td>...</td>\n",
       "      <td>...</td>\n",
       "      <td>...</td>\n",
       "      <td>...</td>\n",
       "      <td>...</td>\n",
       "      <td>...</td>\n",
       "      <td>...</td>\n",
       "      <td>...</td>\n",
       "      <td>...</td>\n",
       "    </tr>\n",
       "    <tr>\n",
       "      <td>9995</td>\n",
       "      <td>9996</td>\n",
       "      <td>15606229</td>\n",
       "      <td>Obijiaku</td>\n",
       "      <td>771</td>\n",
       "      <td>France</td>\n",
       "      <td>Male</td>\n",
       "      <td>39</td>\n",
       "      <td>5</td>\n",
       "      <td>0.00</td>\n",
       "      <td>2</td>\n",
       "      <td>1</td>\n",
       "      <td>0</td>\n",
       "      <td>96270.64</td>\n",
       "      <td>0</td>\n",
       "    </tr>\n",
       "    <tr>\n",
       "      <td>9996</td>\n",
       "      <td>9997</td>\n",
       "      <td>15569892</td>\n",
       "      <td>Johnstone</td>\n",
       "      <td>516</td>\n",
       "      <td>France</td>\n",
       "      <td>Male</td>\n",
       "      <td>35</td>\n",
       "      <td>10</td>\n",
       "      <td>57369.61</td>\n",
       "      <td>1</td>\n",
       "      <td>1</td>\n",
       "      <td>1</td>\n",
       "      <td>101699.77</td>\n",
       "      <td>0</td>\n",
       "    </tr>\n",
       "    <tr>\n",
       "      <td>9997</td>\n",
       "      <td>9998</td>\n",
       "      <td>15584532</td>\n",
       "      <td>Liu</td>\n",
       "      <td>709</td>\n",
       "      <td>France</td>\n",
       "      <td>Female</td>\n",
       "      <td>36</td>\n",
       "      <td>7</td>\n",
       "      <td>0.00</td>\n",
       "      <td>1</td>\n",
       "      <td>0</td>\n",
       "      <td>1</td>\n",
       "      <td>42085.58</td>\n",
       "      <td>1</td>\n",
       "    </tr>\n",
       "    <tr>\n",
       "      <td>9998</td>\n",
       "      <td>9999</td>\n",
       "      <td>15682355</td>\n",
       "      <td>Sabbatini</td>\n",
       "      <td>772</td>\n",
       "      <td>Germany</td>\n",
       "      <td>Male</td>\n",
       "      <td>42</td>\n",
       "      <td>3</td>\n",
       "      <td>75075.31</td>\n",
       "      <td>2</td>\n",
       "      <td>1</td>\n",
       "      <td>0</td>\n",
       "      <td>92888.52</td>\n",
       "      <td>1</td>\n",
       "    </tr>\n",
       "    <tr>\n",
       "      <td>9999</td>\n",
       "      <td>10000</td>\n",
       "      <td>15628319</td>\n",
       "      <td>Walker</td>\n",
       "      <td>792</td>\n",
       "      <td>France</td>\n",
       "      <td>Female</td>\n",
       "      <td>28</td>\n",
       "      <td>4</td>\n",
       "      <td>130142.79</td>\n",
       "      <td>1</td>\n",
       "      <td>1</td>\n",
       "      <td>0</td>\n",
       "      <td>38190.78</td>\n",
       "      <td>0</td>\n",
       "    </tr>\n",
       "  </tbody>\n",
       "</table>\n",
       "<p>10000 rows × 14 columns</p>\n",
       "</div>"
      ],
      "text/plain": [
       "      RowNumber  CustomerId    Surname  CreditScore Geography  Gender  Age  \\\n",
       "0             1    15634602   Hargrave          619    France  Female   42   \n",
       "1             2    15647311       Hill          608     Spain  Female   41   \n",
       "2             3    15619304       Onio          502    France  Female   42   \n",
       "3             4    15701354       Boni          699    France  Female   39   \n",
       "4             5    15737888   Mitchell          850     Spain  Female   43   \n",
       "...         ...         ...        ...          ...       ...     ...  ...   \n",
       "9995       9996    15606229   Obijiaku          771    France    Male   39   \n",
       "9996       9997    15569892  Johnstone          516    France    Male   35   \n",
       "9997       9998    15584532        Liu          709    France  Female   36   \n",
       "9998       9999    15682355  Sabbatini          772   Germany    Male   42   \n",
       "9999      10000    15628319     Walker          792    France  Female   28   \n",
       "\n",
       "      Tenure    Balance  NumOfProducts  HasCrCard  IsActiveMember  \\\n",
       "0          2       0.00              1          1               1   \n",
       "1          1   83807.86              1          0               1   \n",
       "2          8  159660.80              3          1               0   \n",
       "3          1       0.00              2          0               0   \n",
       "4          2  125510.82              1          1               1   \n",
       "...      ...        ...            ...        ...             ...   \n",
       "9995       5       0.00              2          1               0   \n",
       "9996      10   57369.61              1          1               1   \n",
       "9997       7       0.00              1          0               1   \n",
       "9998       3   75075.31              2          1               0   \n",
       "9999       4  130142.79              1          1               0   \n",
       "\n",
       "      EstimatedSalary  Exited  \n",
       "0           101348.88       1  \n",
       "1           112542.58       0  \n",
       "2           113931.57       1  \n",
       "3            93826.63       0  \n",
       "4            79084.10       0  \n",
       "...               ...     ...  \n",
       "9995         96270.64       0  \n",
       "9996        101699.77       0  \n",
       "9997         42085.58       1  \n",
       "9998         92888.52       1  \n",
       "9999         38190.78       0  \n",
       "\n",
       "[10000 rows x 14 columns]"
      ]
     },
     "execution_count": 7,
     "metadata": {},
     "output_type": "execute_result"
    }
   ],
   "source": [
    "dataset"
   ]
  },
  {
   "cell_type": "code",
   "execution_count": 29,
   "metadata": {},
   "outputs": [],
   "source": [
    "X = dataset.iloc[:,3:-1].values\n",
    "y = dataset.iloc[:,-1].values"
   ]
  },
  {
   "cell_type": "code",
   "execution_count": 4,
   "metadata": {},
   "outputs": [
    {
     "data": {
      "text/plain": [
       "array([[619, 'France', 'Female', ..., 1, 1, 101348.88],\n",
       "       [608, 'Spain', 'Female', ..., 0, 1, 112542.58],\n",
       "       [502, 'France', 'Female', ..., 1, 0, 113931.57],\n",
       "       ...,\n",
       "       [709, 'France', 'Female', ..., 0, 1, 42085.58],\n",
       "       [772, 'Germany', 'Male', ..., 1, 0, 92888.52],\n",
       "       [792, 'France', 'Female', ..., 1, 0, 38190.78]], dtype=object)"
      ]
     },
     "execution_count": 4,
     "metadata": {},
     "output_type": "execute_result"
    }
   ],
   "source": [
    "X"
   ]
  },
  {
   "cell_type": "code",
   "execution_count": 5,
   "metadata": {},
   "outputs": [
    {
     "data": {
      "text/plain": [
       "array([1, 0, 1, ..., 1, 1, 0], dtype=int64)"
      ]
     },
     "execution_count": 5,
     "metadata": {},
     "output_type": "execute_result"
    }
   ],
   "source": [
    "y"
   ]
  },
  {
   "cell_type": "code",
   "execution_count": 30,
   "metadata": {},
   "outputs": [],
   "source": [
    "# Encoding categorical data\n",
    "# Label Encoding the \"Gender\" column\n",
    "from sklearn.preprocessing import LabelEncoder\n",
    "le = LabelEncoder()\n",
    "le2 = LabelEncoder()\n",
    "X[:,1] = le.fit_transform(X[:,1])\n",
    "X[:, 2] = le2.fit_transform(X[:, 2])"
   ]
  },
  {
   "cell_type": "code",
   "execution_count": 31,
   "metadata": {},
   "outputs": [
    {
     "data": {
      "text/plain": [
       "array([[619, 0, 0, ..., 1, 1, 101348.88],\n",
       "       [608, 2, 0, ..., 0, 1, 112542.58],\n",
       "       [502, 0, 0, ..., 1, 0, 113931.57],\n",
       "       ...,\n",
       "       [709, 0, 0, ..., 0, 1, 42085.58],\n",
       "       [772, 1, 1, ..., 1, 0, 92888.52],\n",
       "       [792, 0, 0, ..., 1, 0, 38190.78]], dtype=object)"
      ]
     },
     "execution_count": 31,
     "metadata": {},
     "output_type": "execute_result"
    }
   ],
   "source": [
    "X"
   ]
  },
  {
   "cell_type": "code",
   "execution_count": 32,
   "metadata": {},
   "outputs": [
    {
     "name": "stderr",
     "output_type": "stream",
     "text": [
      "F:\\anaconda\\lib\\site-packages\\sklearn\\preprocessing\\_encoders.py:415: FutureWarning: The handling of integer data will change in version 0.22. Currently, the categories are determined based on the range [0, max(values)], while in the future they will be determined based on the unique values.\n",
      "If you want the future behaviour and silence this warning, you can specify \"categories='auto'\".\n",
      "In case you used a LabelEncoder before this OneHotEncoder to convert the categories to integers, then you can now use the OneHotEncoder directly.\n",
      "  warnings.warn(msg, FutureWarning)\n",
      "F:\\anaconda\\lib\\site-packages\\sklearn\\preprocessing\\_encoders.py:451: DeprecationWarning: The 'categorical_features' keyword is deprecated in version 0.20 and will be removed in 0.22. You can use the ColumnTransformer instead.\n",
      "  \"use the ColumnTransformer instead.\", DeprecationWarning)\n"
     ]
    }
   ],
   "source": [
    "# One Hot Encoding the \"Geography\" column\n",
    "from sklearn.preprocessing import OneHotEncoder\n",
    "onehotencoder = OneHotEncoder(categorical_features=[1])\n",
    "X=onehotencoder.fit_transform(X).toarray()"
   ]
  },
  {
   "cell_type": "code",
   "execution_count": 33,
   "metadata": {},
   "outputs": [
    {
     "data": {
      "text/plain": [
       "array([1.0000000e+00, 0.0000000e+00, 0.0000000e+00, 6.1900000e+02,\n",
       "       0.0000000e+00, 4.2000000e+01, 2.0000000e+00, 0.0000000e+00,\n",
       "       1.0000000e+00, 1.0000000e+00, 1.0000000e+00, 1.0134888e+05])"
      ]
     },
     "execution_count": 33,
     "metadata": {},
     "output_type": "execute_result"
    }
   ],
   "source": [
    "X[0]"
   ]
  },
  {
   "cell_type": "code",
   "execution_count": 34,
   "metadata": {},
   "outputs": [
    {
     "data": {
      "text/plain": [
       "array([0.0000000e+00, 0.0000000e+00, 6.1900000e+02, 0.0000000e+00,\n",
       "       4.2000000e+01, 2.0000000e+00, 0.0000000e+00, 1.0000000e+00,\n",
       "       1.0000000e+00, 1.0000000e+00, 1.0134888e+05])"
      ]
     },
     "execution_count": 34,
     "metadata": {},
     "output_type": "execute_result"
    }
   ],
   "source": [
    "#Excluding forst column of X to avoid dummy variable trap\n",
    "X=X[:,1:]\n",
    "X[0]"
   ]
  },
  {
   "cell_type": "code",
   "execution_count": 35,
   "metadata": {},
   "outputs": [],
   "source": [
    "#Feature Scaling\n",
    "from sklearn.preprocessing import StandardScaler\n",
    "sc = StandardScaler()\n",
    "X = sc.fit_transform(X)"
   ]
  },
  {
   "cell_type": "code",
   "execution_count": 36,
   "metadata": {},
   "outputs": [
    {
     "data": {
      "text/plain": [
       "array([[-0.57873591, -0.57380915, -0.32622142, ...,  0.64609167,\n",
       "         0.97024255,  0.02188649],\n",
       "       [-0.57873591,  1.74273971, -0.44003595, ..., -1.54776799,\n",
       "         0.97024255,  0.21653375],\n",
       "       [-0.57873591, -0.57380915, -1.53679418, ...,  0.64609167,\n",
       "        -1.03067011,  0.2406869 ],\n",
       "       ...,\n",
       "       [-0.57873591, -0.57380915,  0.60498839, ..., -1.54776799,\n",
       "         0.97024255, -1.00864308],\n",
       "       [ 1.72790383, -0.57380915,  1.25683526, ...,  0.64609167,\n",
       "        -1.03067011, -0.12523071],\n",
       "       [-0.57873591, -0.57380915,  1.46377078, ...,  0.64609167,\n",
       "        -1.03067011, -1.07636976]])"
      ]
     },
     "execution_count": 36,
     "metadata": {},
     "output_type": "execute_result"
    }
   ],
   "source": [
    "X"
   ]
  },
  {
   "cell_type": "code",
   "execution_count": 37,
   "metadata": {},
   "outputs": [],
   "source": [
    "#splitting dataset to train and test sets\n",
    "from sklearn.model_selection import train_test_split\n",
    "X_train,X_test,y_train,y_test=train_test_split(X,y,test_size=0.2,random_state=0)"
   ]
  },
  {
   "cell_type": "code",
   "execution_count": 41,
   "metadata": {
    "scrolled": true
   },
   "outputs": [
    {
     "data": {
      "text/plain": [
       "8000"
      ]
     },
     "execution_count": 41,
     "metadata": {},
     "output_type": "execute_result"
    }
   ],
   "source": [
    "len(X_train)"
   ]
  },
  {
   "cell_type": "code",
   "execution_count": 42,
   "metadata": {},
   "outputs": [],
   "source": [
    "#Aritificial Neural Networks algorithm\n",
    "#importing libraries\n",
    "import keras\n",
    "from keras.models import Sequential\n",
    "from keras.layers import Dense"
   ]
  },
  {
   "cell_type": "code",
   "execution_count": 43,
   "metadata": {},
   "outputs": [],
   "source": [
    "#initialising ANN\n",
    "classifier_ann = Sequential()"
   ]
  },
  {
   "cell_type": "code",
   "execution_count": 44,
   "metadata": {},
   "outputs": [],
   "source": [
    "#building the ann\n",
    "#adding input and first hidden layers\n",
    "classifier_ann.add(Dense(units = 6,input_shape = (11,),activation = 'relu',kernel_initializer = 'uniform'))\n",
    "classifier_ann.add(Dense(units = 6,activation = 'relu'))"
   ]
  },
  {
   "cell_type": "code",
   "execution_count": 45,
   "metadata": {},
   "outputs": [],
   "source": [
    "#adding output layer\n",
    "classifier_ann.add(Dense(units = 1,activation = 'sigmoid'))"
   ]
  },
  {
   "cell_type": "code",
   "execution_count": 48,
   "metadata": {},
   "outputs": [],
   "source": [
    "#applying stochastic gradient to the ann\n",
    "Adam = keras.optimizers.adam(lr = 0.1)\n",
    "classifier_ann.compile(optimizer = 'Adam',loss = 'binary_crossentropy',metrics = ['accuracy'])"
   ]
  },
  {
   "cell_type": "code",
   "execution_count": 50,
   "metadata": {},
   "outputs": [
    {
     "name": "stdout",
     "output_type": "stream",
     "text": [
      "Epoch 1/100\n",
      "8000/8000 [==============================] - 2s 276us/step - loss: 0.4768 - accuracy: 0.79960s - loss: 0.5023 - accuracy\n",
      "Epoch 2/100\n",
      "8000/8000 [==============================] - 1s 86us/step - loss: 0.3727 - accuracy: 0.8422 0s - loss: 0.3955 - accuracy: 0.82 - ETA: 0s - loss: 0.3867 \n",
      "Epoch 3/100\n",
      "8000/8000 [==============================] - 1s 87us/step - loss: 0.3574 - accuracy: 0.8516 0s - loss: 0.3409 - accuracy:  - ETA: 0s - loss: 0.3601 - accura - ETA: 0s - loss: 0.3589 - accuracy\n",
      "Epoch 4/100\n",
      "8000/8000 [==============================] - 1s 87us/step - loss: 0.3532 - accuracy: 0.8566 0s - loss: 0.3583 - accuracy\n",
      "Epoch 5/100\n",
      "8000/8000 [==============================] - 1s 83us/step - loss: 0.3495 - accuracy: 0.8555\n",
      "Epoch 6/100\n",
      "8000/8000 [==============================] - 1s 82us/step - loss: 0.3475 - accuracy: 0.8561\n",
      "Epoch 7/100\n",
      "8000/8000 [==============================] - 1s 82us/step - loss: 0.3461 - accuracy: 0.8593\n",
      "Epoch 8/100\n",
      "8000/8000 [==============================] - 1s 90us/step - loss: 0.3448 - accuracy: 0.8586\n",
      "Epoch 9/100\n",
      "8000/8000 [==============================] - 1s 101us/step - loss: 0.3441 - accuracy: 0.8585\n",
      "Epoch 10/100\n",
      "8000/8000 [==============================] - 1s 85us/step - loss: 0.3432 - accuracy: 0.8599\n",
      "Epoch 11/100\n",
      "8000/8000 [==============================] - 1s 82us/step - loss: 0.3424 - accuracy: 0.8581 0s - loss: 0.3443 - accuracy: 0.\n",
      "Epoch 12/100\n",
      "8000/8000 [==============================] - 1s 81us/step - loss: 0.3414 - accuracy: 0.8587\n",
      "Epoch 13/100\n",
      "8000/8000 [==============================] - 1s 82us/step - loss: 0.3401 - accuracy: 0.8602\n",
      "Epoch 14/100\n",
      "8000/8000 [==============================] - 1s 82us/step - loss: 0.3400 - accuracy: 0.8589\n",
      "Epoch 15/100\n",
      "8000/8000 [==============================] - 1s 86us/step - loss: 0.3390 - accuracy: 0.8612 0s - loss: 0.3406 - accuracy: 0.86\n",
      "Epoch 16/100\n",
      "8000/8000 [==============================] - 1s 97us/step - loss: 0.3383 - accuracy: 0.8635 0s - loss: 0.3435 - \n",
      "Epoch 17/100\n",
      "8000/8000 [==============================] - 1s 85us/step - loss: 0.3382 - accuracy: 0.8596 0s - loss: 0.3353 - accuracy: \n",
      "Epoch 18/100\n",
      "8000/8000 [==============================] - 1s 81us/step - loss: 0.3371 - accuracy: 0.8615\n",
      "Epoch 19/100\n",
      "8000/8000 [==============================] - 1s 83us/step - loss: 0.3362 - accuracy: 0.8621 0s - loss: 0.3388 - accuracy - ETA: 0s - loss: 0.3410 \n",
      "Epoch 20/100\n",
      "8000/8000 [==============================] - 1s 80us/step - loss: 0.3353 - accuracy: 0.8637\n",
      "Epoch 21/100\n",
      "8000/8000 [==============================] - 1s 81us/step - loss: 0.3351 - accuracy: 0.8625\n",
      "Epoch 22/100\n",
      "8000/8000 [==============================] - 1s 83us/step - loss: 0.3354 - accuracy: 0.8627 0s - loss: 0.3355 - accura\n",
      "Epoch 23/100\n",
      "8000/8000 [==============================] - 1s 86us/step - loss: 0.3342 - accuracy: 0.8626 0s - loss: 0.3277 - accuracy:  - ETA: 0s - loss: 0.3335 - accuracy: 0.86 - ETA: 0s - loss: 0.3324 - accuracy: 0.86\n",
      "Epoch 24/100\n",
      "8000/8000 [==============================] - 1s 90us/step - loss: 0.3337 - accuracy: 0.8634\n",
      "Epoch 25/100\n",
      "8000/8000 [==============================] - 1s 89us/step - loss: 0.3342 - accuracy: 0.8625\n",
      "Epoch 26/100\n",
      "8000/8000 [==============================] - 1s 83us/step - loss: 0.3338 - accuracy: 0.8627\n",
      "Epoch 27/100\n",
      "8000/8000 [==============================] - 1s 85us/step - loss: 0.3326 - accuracy: 0.8655\n",
      "Epoch 28/100\n",
      "8000/8000 [==============================] - 1s 89us/step - loss: 0.3336 - accuracy: 0.8624 0s - loss: 0.3357 - accuracy: 0.\n",
      "Epoch 29/100\n",
      "8000/8000 [==============================] - 1s 87us/step - loss: 0.3327 - accuracy: 0.8649\n",
      "Epoch 30/100\n",
      "8000/8000 [==============================] - 1s 87us/step - loss: 0.3332 - accuracy: 0.8633 0s - loss: 0.3347 - accuracy\n",
      "Epoch 31/100\n",
      "8000/8000 [==============================] - 1s 90us/step - loss: 0.3333 - accuracy: 0.8626 0s - loss: 0.3\n",
      "Epoch 32/100\n",
      "8000/8000 [==============================] - 1s 113us/step - loss: 0.3331 - accuracy: 0.8633\n",
      "Epoch 33/100\n",
      "8000/8000 [==============================] - 1s 97us/step - loss: 0.3326 - accuracy: 0.8635 0s - loss: 0.3\n",
      "Epoch 34/100\n",
      "8000/8000 [==============================] - 1s 84us/step - loss: 0.3325 - accuracy: 0.8648 0s - loss: 0.3351 - accuracy\n",
      "Epoch 35/100\n",
      "8000/8000 [==============================] - 1s 85us/step - loss: 0.3327 - accuracy: 0.8624 0s - loss: 0.3307 - ac\n",
      "Epoch 36/100\n",
      "8000/8000 [==============================] - 1s 87us/step - loss: 0.3324 - accuracy: 0.8659\n",
      "Epoch 37/100\n",
      "8000/8000 [==============================] - 1s 87us/step - loss: 0.3325 - accuracy: 0.8645 0s - loss: 0.3146 - accuracy: 0.87 - ETA: 0s - loss: 0.3\n",
      "Epoch 38/100\n",
      "8000/8000 [==============================] - 1s 92us/step - loss: 0.3318 - accuracy: 0.8625 0s - loss: 0.3395 - accuracy: 0. - ETA: 0s - loss: 0.3362 - accura\n",
      "Epoch 39/100\n",
      "8000/8000 [==============================] - 1s 90us/step - loss: 0.3330 - accuracy: 0.8616\n",
      "Epoch 40/100\n",
      "8000/8000 [==============================] - 1s 99us/step - loss: 0.3321 - accuracy: 0.8645\n",
      "Epoch 41/100\n",
      "8000/8000 [==============================] - 1s 80us/step - loss: 0.3321 - accuracy: 0.8631\n",
      "Epoch 42/100\n",
      "8000/8000 [==============================] - 1s 80us/step - loss: 0.3322 - accuracy: 0.8625\n",
      "Epoch 43/100\n",
      "8000/8000 [==============================] - 1s 86us/step - loss: 0.3313 - accuracy: 0.8644\n",
      "Epoch 44/100\n",
      "8000/8000 [==============================] - 1s 81us/step - loss: 0.3314 - accuracy: 0.8651 0s - loss: 0.3292 - accuracy: \n",
      "Epoch 45/100\n",
      "8000/8000 [==============================] - 1s 82us/step - loss: 0.3313 - accuracy: 0.8635\n",
      "Epoch 46/100\n",
      "8000/8000 [==============================] - 1s 81us/step - loss: 0.3317 - accuracy: 0.8654\n",
      "Epoch 47/100\n",
      "8000/8000 [==============================] - 1s 81us/step - loss: 0.3317 - accuracy: 0.8646\n",
      "Epoch 48/100\n",
      "8000/8000 [==============================] - 1s 97us/step - loss: 0.3313 - accuracy: 0.8652\n",
      "Epoch 49/100\n",
      "8000/8000 [==============================] - ETA: 0s - loss: 0.3314 - accuracy: 0.86 - 1s 81us/step - loss: 0.3308 - accuracy: 0.8643\n",
      "Epoch 50/100\n",
      "8000/8000 [==============================] - 1s 85us/step - loss: 0.3312 - accuracy: 0.8643 0s - loss: 0.3203 - ac - ETA: 0s - loss: 0.3298 - accuracy: 0.\n",
      "Epoch 51/100\n",
      "8000/8000 [==============================] - 1s 83us/step - loss: 0.3311 - accuracy: 0.8636 0s - loss: 0.3272 - ac\n",
      "Epoch 52/100\n",
      "8000/8000 [==============================] - 1s 80us/step - loss: 0.3309 - accuracy: 0.8635 0s - loss: 0.2\n",
      "Epoch 53/100\n",
      "8000/8000 [==============================] - 1s 82us/step - loss: 0.3315 - accuracy: 0.8640 0s - loss: 0\n",
      "Epoch 54/100\n",
      "8000/8000 [==============================] - 1s 81us/step - loss: 0.3318 - accuracy: 0.8635 0s - loss: 0.309\n",
      "Epoch 55/100\n",
      "8000/8000 [==============================] - 1s 82us/step - loss: 0.3303 - accuracy: 0.8652 0s - loss: 0.3379 - ac\n",
      "Epoch 56/100\n",
      "8000/8000 [==============================] - 1s 95us/step - loss: 0.3313 - accuracy: 0.8641\n",
      "Epoch 57/100\n",
      "8000/8000 [==============================] - 1s 80us/step - loss: 0.3314 - accuracy: 0.8626 0s - loss: 0.3298 - accuracy: 0.\n",
      "Epoch 58/100\n",
      "8000/8000 [==============================] - 1s 81us/step - loss: 0.3302 - accuracy: 0.8639\n",
      "Epoch 59/100\n",
      "8000/8000 [==============================] - 1s 83us/step - loss: 0.3308 - accuracy: 0.8633\n",
      "Epoch 60/100\n",
      "8000/8000 [==============================] - 1s 87us/step - loss: 0.3305 - accuracy: 0.8644 0s - loss: 0.3315 - accuracy: \n",
      "Epoch 61/100\n",
      "8000/8000 [==============================] - 1s 85us/step - loss: 0.3311 - accuracy: 0.8641 0s - loss: 0.2989 - accuracy: 0.87 - ETA: 0s - loss: 0.3\n",
      "Epoch 62/100\n",
      "8000/8000 [==============================] - 1s 82us/step - loss: 0.3302 - accuracy: 0.8659\n",
      "Epoch 63/100\n",
      "8000/8000 [==============================] - 1s 80us/step - loss: 0.3309 - accuracy: 0.8639\n",
      "Epoch 64/100\n",
      "8000/8000 [==============================] - 1s 95us/step - loss: 0.3312 - accuracy: 0.8645\n",
      "Epoch 65/100\n",
      "8000/8000 [==============================] - 1s 79us/step - loss: 0.3303 - accuracy: 0.8656 0s - loss: 0.3270 - accuracy: 0. - ETA: 0s - loss: 0.3289 - ac\n",
      "Epoch 66/100\n",
      "8000/8000 [==============================] - 1s 82us/step - loss: 0.3311 - accuracy: 0.8622\n",
      "Epoch 67/100\n"
     ]
    },
    {
     "name": "stdout",
     "output_type": "stream",
     "text": [
      "8000/8000 [==============================] - 1s 78us/step - loss: 0.3308 - accuracy: 0.8645\n",
      "Epoch 68/100\n",
      "8000/8000 [==============================] - 1s 80us/step - loss: 0.3303 - accuracy: 0.8660\n",
      "Epoch 69/100\n",
      "8000/8000 [==============================] - 1s 79us/step - loss: 0.3307 - accuracy: 0.8658 0s - loss: 0.3297 - accuracy: 0.\n",
      "Epoch 70/100\n",
      "8000/8000 [==============================] - 1s 80us/step - loss: 0.3308 - accuracy: 0.8641\n",
      "Epoch 71/100\n",
      "8000/8000 [==============================] - 1s 82us/step - loss: 0.3304 - accuracy: 0.8639 0s - loss: 0.3251 - \n",
      "Epoch 72/100\n",
      "8000/8000 [==============================] - 1s 87us/step - loss: 0.3301 - accuracy: 0.8643 0s - loss: 0.3342 - accu\n",
      "Epoch 73/100\n",
      "8000/8000 [==============================] - 1s 85us/step - loss: 0.3307 - accuracy: 0.8640 0s - loss: 0.3180 - ac\n",
      "Epoch 74/100\n",
      "8000/8000 [==============================] - 1s 78us/step - loss: 0.3300 - accuracy: 0.8634\n",
      "Epoch 75/100\n",
      "8000/8000 [==============================] - 1s 77us/step - loss: 0.3301 - accuracy: 0.8633\n",
      "Epoch 76/100\n",
      "8000/8000 [==============================] - 1s 77us/step - loss: 0.3304 - accuracy: 0.8656\n",
      "Epoch 77/100\n",
      "8000/8000 [==============================] - 1s 78us/step - loss: 0.3302 - accuracy: 0.8624\n",
      "Epoch 78/100\n",
      "8000/8000 [==============================] - 1s 77us/step - loss: 0.3298 - accuracy: 0.8637\n",
      "Epoch 79/100\n",
      "8000/8000 [==============================] - 1s 79us/step - loss: 0.3308 - accuracy: 0.8629\n",
      "Epoch 80/100\n",
      "8000/8000 [==============================] - 1s 79us/step - loss: 0.3303 - accuracy: 0.8645 0s - loss: 0.3310 - accu\n",
      "Epoch 81/100\n",
      "8000/8000 [==============================] - 1s 93us/step - loss: 0.3303 - accuracy: 0.8652 0s - loss: 0.3261 - accuracy\n",
      "Epoch 82/100\n",
      "8000/8000 [==============================] - 1s 78us/step - loss: 0.3298 - accuracy: 0.8651 0s - loss: 0.3318 - accuracy: 0. - ETA: 0s - loss: 0.3294 - accuracy: 0.86\n",
      "Epoch 83/100\n",
      "8000/8000 [==============================] - 1s 78us/step - loss: 0.3302 - accuracy: 0.8673\n",
      "Epoch 84/100\n",
      "8000/8000 [==============================] - 1s 78us/step - loss: 0.3301 - accuracy: 0.8655 0s - loss: 0.3308 - \n",
      "Epoch 85/100\n",
      "8000/8000 [==============================] - 1s 79us/step - loss: 0.3296 - accuracy: 0.8656\n",
      "Epoch 86/100\n",
      "8000/8000 [==============================] - 1s 78us/step - loss: 0.3299 - accuracy: 0.8648\n",
      "Epoch 87/100\n",
      "8000/8000 [==============================] - 1s 78us/step - loss: 0.3300 - accuracy: 0.8636\n",
      "Epoch 88/100\n",
      "8000/8000 [==============================] - 1s 78us/step - loss: 0.3298 - accuracy: 0.8621\n",
      "Epoch 89/100\n",
      "8000/8000 [==============================] - 1s 93us/step - loss: 0.3299 - accuracy: 0.8649\n",
      "Epoch 90/100\n",
      "8000/8000 [==============================] - 1s 94us/step - loss: 0.3299 - accuracy: 0.8641 0s - loss: 0.3164 - accu\n",
      "Epoch 91/100\n",
      "8000/8000 [==============================] - 1s 86us/step - loss: 0.3299 - accuracy: 0.8652 0s - loss: 0.3241 - accu - ETA: 0s - loss: 0.3289 - accuracy\n",
      "Epoch 92/100\n",
      "8000/8000 [==============================] - 1s 86us/step - loss: 0.3296 - accuracy: 0.8650 0s - loss: 0\n",
      "Epoch 93/100\n",
      "8000/8000 [==============================] - 1s 84us/step - loss: 0.3298 - accuracy: 0.8660 0s - loss: 0.3289 - accuracy: 0.86\n",
      "Epoch 94/100\n",
      "8000/8000 [==============================] - 1s 86us/step - loss: 0.3298 - accuracy: 0.8640 0s - loss: 0.3205 - accuracy:  - ETA: 0s - loss: 0.3244 - accuracy\n",
      "Epoch 95/100\n",
      "8000/8000 [==============================] - 1s 82us/step - loss: 0.3298 - accuracy: 0.8659 0s - loss: 0.340\n",
      "Epoch 96/100\n",
      "8000/8000 [==============================] - 1s 82us/step - loss: 0.3298 - accuracy: 0.8644 0s - loss: 0.3388 - \n",
      "Epoch 97/100\n",
      "8000/8000 [==============================] - 1s 87us/step - loss: 0.3295 - accuracy: 0.8654 0s - loss: 0.3280 - \n",
      "Epoch 98/100\n",
      "8000/8000 [==============================] - 1s 89us/step - loss: 0.3294 - accuracy: 0.8633 0s - loss: 0.3174 - \n",
      "Epoch 99/100\n",
      "8000/8000 [==============================] - 1s 77us/step - loss: 0.3298 - accuracy: 0.8654\n",
      "Epoch 100/100\n",
      "8000/8000 [==============================] - 1s 77us/step - loss: 0.3293 - accuracy: 0.8659\n"
     ]
    },
    {
     "data": {
      "text/plain": [
       "<keras.callbacks.callbacks.History at 0x2451ea42748>"
      ]
     },
     "execution_count": 50,
     "metadata": {},
     "output_type": "execute_result"
    }
   ],
   "source": [
    "#fitting the ANN to the training set\n",
    "classifier_ann.fit(X_train,y_train,batch_size = 10,epochs = 100)"
   ]
  },
  {
   "cell_type": "code",
   "execution_count": 51,
   "metadata": {},
   "outputs": [
    {
     "name": "stderr",
     "output_type": "stream",
     "text": [
      "F:\\anaconda\\lib\\site-packages\\sklearn\\linear_model\\logistic.py:432: FutureWarning: Default solver will be changed to 'lbfgs' in 0.22. Specify a solver to silence this warning.\n",
      "  FutureWarning)\n"
     ]
    },
    {
     "data": {
      "text/plain": [
       "LogisticRegression(C=1.0, class_weight=None, dual=False, fit_intercept=True,\n",
       "                   intercept_scaling=1, l1_ratio=None, max_iter=100,\n",
       "                   multi_class='warn', n_jobs=None, penalty='l2',\n",
       "                   random_state=0, solver='warn', tol=0.0001, verbose=0,\n",
       "                   warm_start=False)"
      ]
     },
     "execution_count": 51,
     "metadata": {},
     "output_type": "execute_result"
    }
   ],
   "source": [
    "#Logistic Regression algorithm\n",
    "from sklearn.linear_model import LogisticRegression\n",
    "classifier_lr = LogisticRegression(random_state = 0)\n",
    "classifier_lr.fit(X_train,y_train)"
   ]
  },
  {
   "cell_type": "code",
   "execution_count": 60,
   "metadata": {},
   "outputs": [
    {
     "data": {
      "image/png": "[encoded data removed]",
      "text/plain": [
       "<Figure size 432x288 with 1 Axes>"
      ]
     },
     "metadata": {
      "needs_background": "light"
     },
     "output_type": "display_data"
    }
   ],
   "source": [
    "#Kth Nearest Neighbor algorithm\n",
    "from sklearn.metrics import mean_squared_error \n",
    "from math import sqrt\n",
    "from sklearn.neighbors import KNeighborsClassifier\n",
    "rmse=[]\n",
    "\n",
    "for i  in range(1,100):\n",
    "    knn=KNeighborsClassifier(n_neighbors=i,metric='minkowski',p=2)\n",
    "    knn.fit(X_train,y_train)\n",
    "    pred=knn.predict(X_test) \n",
    "    error = math.sqrt(mean_squared_error(y_test,pred)) #calculate rmse\n",
    "    rmse.append(error) #store rmse values\n",
    "    \n",
    "#plotting the rmse values against k values\n",
    "plt.plot(range(1,100),rmse) #elbow curve \n",
    "plt.title('Elbow Method')\n",
    "plt.xlabel('K values')\n",
    "plt.ylabel('RMSE')\n",
    "plt.show()\n"
   ]
  },
  {
   "cell_type": "code",
   "execution_count": 62,
   "metadata": {},
   "outputs": [
    {
     "data": {
      "text/plain": [
       "<matplotlib.axes._subplots.AxesSubplot at 0x245216377c8>"
      ]
     },
     "execution_count": 62,
     "metadata": {},
     "output_type": "execute_result"
    },
    {
     "data": {
      "image/png": "[encoded data removed]",
      "text/plain": [
       "<Figure size 432x288 with 1 Axes>"
      ]
     },
     "metadata": {
      "needs_background": "light"
     },
     "output_type": "display_data"
    }
   ],
   "source": [
    "rmse=[]\n",
    "\n",
    "for i  in range(20,30):\n",
    "    knn=KNeighborsClassifier(n_neighbors=i,metric='minkowski',p=2)\n",
    "    knn.fit(X_train,y_train)\n",
    "    pred=knn.predict(X_test) \n",
    "    error = math.sqrt(mean_squared_error(y_test,pred))\n",
    "    rmse.append(error)\n",
    "    \n",
    "\n",
    "curve = pd.DataFrame(rmse)\n",
    "curve.plot()\n"
   ]
  },
  {
   "cell_type": "code",
   "execution_count": 63,
   "metadata": {},
   "outputs": [
    {
     "data": {
      "text/plain": [
       "KNeighborsClassifier(algorithm='auto', leaf_size=30, metric='minkowski',\n",
       "                     metric_params=None, n_jobs=None, n_neighbors=25, p=2,\n",
       "                     weights='uniform')"
      ]
     },
     "execution_count": 63,
     "metadata": {},
     "output_type": "execute_result"
    }
   ],
   "source": [
    "#best k value is 25\n",
    "#fitting knn classifier with k value 25\n",
    "classifier_knn = KNeighborsClassifier(n_neighbors=25,metric='minkowski',p=2)\n",
    "classifier_knn.fit(X_train,y_train)"
   ]
  },
  {
   "cell_type": "code",
   "execution_count": 69,
   "metadata": {},
   "outputs": [],
   "source": [
    "y_ann=classifier_ann.predict(X_test)\n",
    "y_ann=(y_ann>0.5)\n",
    "y_lr=classifier_lr.predict(X_test)\n",
    "y_knn=classifier_knn.predict(X_test)"
   ]
  },
  {
   "cell_type": "code",
   "execution_count": 70,
   "metadata": {},
   "outputs": [],
   "source": [
    "#confusion matrices\n",
    "from sklearn.metrics import confusion_matrix\n",
    "cm_ann=confusion_matrix(y_test,y_ann)\n",
    "cm_lr=confusion_matrix(y_test,y_lr)\n",
    "cm_knn=confusion_matrix(y_test,y_knn)"
   ]
  },
  {
   "cell_type": "code",
   "execution_count": 71,
   "metadata": {},
   "outputs": [
    {
     "name": "stdout",
     "output_type": "stream",
     "text": [
      "[[1502   93]\n",
      " [ 196  209]]\n",
      "[[1526   69]\n",
      " [ 309   96]]\n",
      "[[1564   31]\n",
      " [ 265  140]]\n"
     ]
    }
   ],
   "source": [
    "print(cm_ann)\n",
    "print(cm_lr)\n",
    "print(cm_knn)"
   ]
  },
  {
   "cell_type": "code",
   "execution_count": 73,
   "metadata": {},
   "outputs": [
    {
     "name": "stdout",
     "output_type": "stream",
     "text": [
      "0.8555\n",
      "0.811\n",
      "0.852\n"
     ]
    }
   ],
   "source": [
    "# accuracy = (TP + TN)/(TP + TN + FP + FN)\n",
    "print((cm_ann[0][0]+cm_ann[1][1])/2000)\n",
    "print((cm_lr[0][0]+cm_lr[1][1])/2000)\n",
    "print((cm_knn[0][0]+cm_knn[1][1])/2000)"
   ]
  },
  {
   "cell_type": "code",
   "execution_count": null,
   "metadata": {},
   "outputs": [],
   "source": []
  }
 ],
 "metadata": {
  "kernelspec": {
   "display_name": "Python 3",
   "language": "python",
   "name": "python3"
  },
  "language_info": {
   "codemirror_mode": {
    "name": "ipython",
    "version": 3
   },
   "file_extension": ".py",
   "mimetype": "text/x-python",
   "name": "python",
   "nbconvert_exporter": "python",
   "pygments_lexer": "ipython3",
   "version": "3.7.4"
  }
 },
 "nbformat": 4,
 "nbformat_minor": 2
}
